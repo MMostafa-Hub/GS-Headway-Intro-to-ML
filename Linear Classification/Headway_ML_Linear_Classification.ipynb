{
 "cells": [
  {
   "cell_type": "markdown",
   "metadata": {
    "colab_type": "text",
    "id": "OXK1Z29Or5mk"
   },
   "source": [
    "# Machine Learning: Session 1"
   ]
  },
  {
   "cell_type": "markdown",
   "metadata": {},
   "source": [
    "### How to solve the tasks?\n",
    "\n",
    "#### Please no deletion of cells, only adding solutions\n",
    "\n",
    "Please do not delete any of the cells that have been given to you in the notebook. If you accidentally do so, please add the deleted content back (`Edit -> Undo Deleted Cell` might help). Please only edit the cells where you need to insert your solutions. It is fine to have your solution consisting of many cells, so feel free to add cells if needed. Please make sure that the solution to each subtask is in the dedicated slot, e.g. it is not sufficient to just state that you already answered this question in the previous subtask.\n",
    "\n",
    "These formatting requests are to make our grading simpler. We are using automatic tools to rearrange solutions, e.g. collecting solutions of the same subtask by all students into a single notebook for faster manual grading. If you delete some cells of task description then you risk losing points, although we try to notice and grade manually all such cases.\n",
    "\n",
    "#### No need for code comments (unless stated otherwise)\n",
    "\n",
    "\n",
    "#### Before sending your notebook\n",
    "\n",
    "Please make sure that you do `Kernel -> Restart and Run All` on your Jupyter notebook before submission. This is something that we will do anyways before starting to grade, and by doing it yourself you can ensure that everything works as intended. Please make sure that your code does not throw errors half way through, because then whatever comes after that in the notebook would not be run. If you are not able to fully solve some coding task then at least please leave it at a state where it does not throw errors, commenting out some lines if necessary.\n",
    "\n",
    "#### Submit only .ipynb file\n",
    "\n",
    "Please submit only the .ipynb Jupyter notebook file, unless stated otherwise. We will run the notebook with all the required files (e.g. csv files with data) in the same folder.\n"
   ]
  },
  {
   "cell_type": "markdown",
   "metadata": {
    "colab_type": "text",
    "id": "aI3tIQgjr5nm"
   },
   "source": [
    "### <font color='purple'>Please make sure that you have all the following packages installed: </font>"
   ]
  },
  {
   "cell_type": "code",
   "execution_count": 1,
   "metadata": {
    "colab": {},
    "colab_type": "code",
    "id": "IzX05mv3r5ns"
   },
   "outputs": [
    {
     "name": "stderr",
     "output_type": "stream",
     "text": [
      "C:\\Users\\ibrahim.mohamed\\AppData\\Local\\Temp\\ipykernel_17428\\694074649.py:4: MatplotlibDeprecationWarning: The seaborn styles shipped by Matplotlib are deprecated since 3.6, as they no longer correspond to the styles shipped by seaborn. However, they will remain available as 'seaborn-v0_8-<style>'. Alternatively, directly use the seaborn API instead.\n",
      "  plt.style.use('seaborn-whitegrid') # Plot style\n"
     ]
    }
   ],
   "source": [
    "import pandas as pd\n",
    "import numpy as np\n",
    "import matplotlib.pyplot as plt\n",
    "plt.style.use('seaborn-whitegrid') # Plot style"
   ]
  },
  {
   "cell_type": "code",
   "execution_count": 2,
   "metadata": {
    "colab": {},
    "colab_type": "code",
    "id": "1aZz1p5Gr5oE"
   },
   "outputs": [],
   "source": [
    "from numpy.random import multivariate_normal, seed\n",
    "from sklearn.dummy import DummyClassifier\n",
    "from sklearn.linear_model import Perceptron\n",
    "from sklearn.neighbors import KNeighborsClassifier\n",
    "from sklearn.naive_bayes import GaussianNB"
   ]
  },
  {
   "cell_type": "markdown",
   "metadata": {
    "colab_type": "text",
    "id": "PHGjJ9Jar5oQ"
   },
   "source": [
    "## Task 1. Basic linear classifier"
   ]
  },
  {
   "cell_type": "markdown",
   "metadata": {
    "colab_type": "text",
    "id": "KjNspVaAr5oX"
   },
   "source": [
    "#### <font color='purple'>(a) Check the [documentation](https://pandas.pydata.org/pandas-docs/stable/reference/api/pandas.DataFrame.html) and define a `pandas` dataframe using the arrays given below. Please store your dataframe in the variable `data`. It should contain 3 columns and 12 rows. "
   ]
  },
  {
   "cell_type": "code",
   "execution_count": 3,
   "metadata": {
    "colab": {},
    "colab_type": "code",
    "id": "yPw_IoCXr5oe"
   },
   "outputs": [
    {
     "data": {
      "text/html": [
       "<div>\n",
       "<style scoped>\n",
       "    .dataframe tbody tr th:only-of-type {\n",
       "        vertical-align: middle;\n",
       "    }\n",
       "\n",
       "    .dataframe tbody tr th {\n",
       "        vertical-align: top;\n",
       "    }\n",
       "\n",
       "    .dataframe thead th {\n",
       "        text-align: right;\n",
       "    }\n",
       "</style>\n",
       "<table border=\"1\" class=\"dataframe\">\n",
       "  <thead>\n",
       "    <tr style=\"text-align: right;\">\n",
       "      <th></th>\n",
       "      <th>x1</th>\n",
       "      <th>x2</th>\n",
       "      <th>y</th>\n",
       "    </tr>\n",
       "  </thead>\n",
       "  <tbody>\n",
       "    <tr>\n",
       "      <th>0</th>\n",
       "      <td>5</td>\n",
       "      <td>2</td>\n",
       "      <td>1</td>\n",
       "    </tr>\n",
       "    <tr>\n",
       "      <th>1</th>\n",
       "      <td>6</td>\n",
       "      <td>1</td>\n",
       "      <td>1</td>\n",
       "    </tr>\n",
       "    <tr>\n",
       "      <th>2</th>\n",
       "      <td>7</td>\n",
       "      <td>3</td>\n",
       "      <td>1</td>\n",
       "    </tr>\n",
       "    <tr>\n",
       "      <th>3</th>\n",
       "      <td>7</td>\n",
       "      <td>5</td>\n",
       "      <td>1</td>\n",
       "    </tr>\n",
       "    <tr>\n",
       "      <th>4</th>\n",
       "      <td>8</td>\n",
       "      <td>10</td>\n",
       "      <td>1</td>\n",
       "    </tr>\n",
       "  </tbody>\n",
       "</table>\n",
       "</div>"
      ],
      "text/plain": [
       "   x1  x2  y\n",
       "0   5   2  1\n",
       "1   6   1  1\n",
       "2   7   3  1\n",
       "3   7   5  1\n",
       "4   8  10  1"
      ]
     },
     "metadata": {},
     "output_type": "display_data"
    }
   ],
   "source": [
    "x1 = np.array([5, 6, 7, 7, 8, 9, 0, 1, 2, 4, 5, 6])\n",
    "x2 = np.array([2, 1, 3, 5, 10, 3, 4, 8, 6, 10, 9, 11])\n",
    "y = np.array([1, 1, 1, 1, 1, 1, -1, -1, -1, -1, -1, -1])\n",
    "\n",
    "##### YOUR CODE STARTS ##### (please do not delete this line)\n",
    "data = pd.DataFrame({\"x1\": x1, \"x2\":x2, 'y':y})\n",
    "##### YOUR CODE ENDS ##### (please do not delete this line)\n",
    "\n",
    "if data is not ...:\n",
    "    display(data.head()) # this will show the first lines of the dataframe, helping us to check whether you got it right    \n",
    "else:\n",
    "    print(CRED + \"TODO: Assign data!\" + CEND)"
   ]
  },
  {
   "cell_type": "markdown",
   "metadata": {
    "colab_type": "text",
    "id": "fNl_SbbAr5os"
   },
   "source": [
    "#### <font color='purple'>(b) Plot your data in axes `x1` and `x2`, highlight two classes with different colors, name the axes."
   ]
  },
  {
   "cell_type": "markdown",
   "metadata": {
    "colab_type": "text",
    "id": "Z0WR4FmVr5ou"
   },
   "source": [
    "Feel free to use techniques from the notebook of the first practice session"
   ]
  },
  {
   "cell_type": "code",
   "execution_count": 4,
   "metadata": {
    "colab": {},
    "colab_type": "code",
    "id": "_sqnHEjfr5ov"
   },
   "outputs": [
    {
     "data": {
      "image/png": "[encoded data removed]",
      "text/plain": [
       "<Figure size 640x480 with 1 Axes>"
      ]
     },
     "metadata": {},
     "output_type": "display_data"
    }
   ],
   "source": [
    "def plot_data(data):\n",
    "    # Plot function goes here\n",
    "    # We suggest to use plt.plot(...) for each class\n",
    "    ##### YOUR CODE STARTS ##### (please do not delete this line)\n",
    "    import matplotlib.pyplot as plt \n",
    "    plt.plot(data[data['y']==1]['x1'], data[data['y']==1]['x2'], 'go', label='class 1')\n",
    "    plt.plot(data[data['y']==-1]['x1'], data[data['y']==-1]['x2'], 'ro',label='class 2')\n",
    "    # raise NotImplementedError(\"Implement the function to plot the data!\")\n",
    "    ##### YOUR CODE ENDS ##### (please do not delete this line)\n",
    "    \n",
    "try:\n",
    "    plot_data(data)\n",
    "    plt.show()\n",
    "except NotImplementedError as e:\n",
    "    print(CRED + \"TODO: \" + str(e) + CEND)"
   ]
  },
  {
   "cell_type": "markdown",
   "metadata": {
    "colab_type": "text",
    "id": "_ABHxuDer5o3"
   },
   "source": [
    "#### <font color='purple'>(c) Find and highlight in the plot the center of mass for each of two classes as well as the middle point between these centers. </font>"
   ]
  },
  {
   "cell_type": "code",
   "execution_count": 5,
   "metadata": {
    "colab": {},
    "colab_type": "code",
    "id": "Pna589aCr5o8"
   },
   "outputs": [
    {
     "data": {
      "image/png": "[encoded data removed]",
      "text/plain": [
       "<Figure size 640x480 with 1 Axes>"
      ]
     },
     "metadata": {},
     "output_type": "display_data"
    },
    {
     "name": "stdout",
     "output_type": "stream",
     "text": [
      "Center of mass for class +1: (7.000000,4.000000)\n",
      "Center of mass for class -1: (3.000000,8.000000)\n",
      "Middle point between the two centers: (5.000000,6.000000)\n"
     ]
    }
   ],
   "source": [
    "# Calculate values for pos_c1, pos_c1, neg_c1, neg_c2, m1, m2 which will all be printed below\n",
    "try:\n",
    "    ##### YOUR CODE STARTS ##### (please do not delete this line)\n",
    "    # raise NotImplementedError(\"Assign values to pos_c1, pos_c2, neg_c1, neg_c2, m1, and m2\")\n",
    "    pos = data[data['y']==1]\n",
    "    neg = data[data['y']==-1]\n",
    "    \n",
    "    pos_c1 = np.mean(pos['x1'])\n",
    "    pos_c2 = np.mean(pos['x2'])\n",
    "    neg_c1 = np.mean(neg['x1'])\n",
    "    neg_c2 = np.mean(neg['x2'])\n",
    "    \n",
    "    m1 = (pos_c1 + neg_c1) / 2\n",
    "    m2 = (pos_c2 + neg_c2) / 2\n",
    "    \n",
    "    # Plot the three points\n",
    "    plot_data(data)\n",
    "    plt.plot(pos_c1, pos_c2, 'gx', label='class 1 ')\n",
    "    plt.plot(neg_c1, neg_c2, 'rx', label='class 2 middle point')\n",
    "    plt.plot(m1, m2, 'bx', label='middle point')\n",
    "    \n",
    "    x = np.linspace(0, 10, 100)\n",
    "    plt.plot(x, -x + 11, 'b-', alpha=0.5)\n",
    "    plt.show()\n",
    "    ##### YOUR CODE ENDS ##### (please do not delete this line)\n",
    "\n",
    "    print(\"Center of mass for class +1: (%f,%f)\" % (pos_c1,pos_c2))\n",
    "    print(\"Center of mass for class -1: (%f,%f)\" % (neg_c1,neg_c2))\n",
    "    print(\"Middle point between the two centers: (%f,%f)\" % (m1,m2))\n",
    "except NotImplementedError as e:\n",
    "    print(CRED + \"TODO: \" + str(e) + CEND)"
   ]
  },
  {
   "cell_type": "markdown",
   "metadata": {
    "colab_type": "text",
    "id": "TAQd0SzVr5pN"
   },
   "source": [
    "#### <font color='purple'>(d) Find (or guess) the equation of the decision boundary line chosen by the basic linear classifier. Please express the equation in the format $x_2=a\\cdot x_1+b$. Note that we expect to some short explanation as well, not only the final equation.</font>"
   ]
  },
  {
   "cell_type": "markdown",
   "metadata": {},
   "source": [
    "<font color='purple'>HINT: For this you might need to use the positions of centers of mass and the middle point between them. Formula of a line through two points $(x'_1,x'_2)$ and $(x''_1,x''_2)$ can help also:</font>"
   ]
  },
  {
   "cell_type": "markdown",
   "metadata": {
    "colab_type": "text",
    "id": "3gfCUeZkr5pW"
   },
   "source": [
    "$\\frac{x_1-x'_1}{x''_1-x'_1} = \\frac{x_2-x'_2}{x''_2-x'_2}$"
   ]
  },
  {
   "cell_type": "markdown",
   "metadata": {
    "colab_type": "text",
    "id": "WuJ-aoshr5pd"
   },
   "source": [
    "Answer: the best line is the one that goes through the middle point between the centers of mass of the two classes. and perpendicular to the line connecting the centers of mass of the two classes. \n",
    "\n",
    "since, the equation of the line connecting the centers of mass of the two classes is: $x_2 = -x_1 + 11$\n",
    "\n",
    "The equation of the line perpendicular to it is and the decision boundary: $x_2 = x_1 + 1$"
   ]
  },
  {
   "cell_type": "markdown",
   "metadata": {
    "colab_type": "text",
    "collapsed": true,
    "id": "VTMTV65Yr5ph"
   },
   "source": [
    "#### <font color='purple'>(e) Plot the data together with the decision boundary line chosen by the basic linear classifier. For this you can make use of the equation that you obtained in the previous subtask.</font>"
   ]
  },
  {
   "cell_type": "code",
   "execution_count": 6,
   "metadata": {
    "colab": {},
    "colab_type": "code",
    "id": "qfWVXEMLr5pj"
   },
   "outputs": [
    {
     "data": {
      "image/png": "[encoded data removed]",
      "text/plain": [
       "<Figure size 640x480 with 1 Axes>"
      ]
     },
     "metadata": {},
     "output_type": "display_data"
    }
   ],
   "source": [
    "try:\n",
    "    plot_data(data) # first plot the data points\n",
    "\n",
    "    # Write code to draw the line. Hint: you can use plt.plot(...) again \n",
    "    ##### YOUR CODE STARTS ##### (please do not delete this line)\n",
    "    \n",
    "    x = np.linspace(-1, 10, 100)\n",
    "    y = x + 1\n",
    "    \n",
    "    plt.plot(x, y, 'b--')\n",
    "    # raise NotImplementedError(\"Plot the decision boundary!\")\n",
    "    ##### YOUR CODE ENDS ##### (please do not delete this line)\n",
    "\n",
    "    plt.show()\n",
    "except NotImplementedError as e:\n",
    "    print(CRED + \"TODO: \" + str(e) + CEND)"
   ]
  },
  {
   "cell_type": "markdown",
   "metadata": {
    "colab_type": "text",
    "id": "puYffTunr5p_"
   },
   "source": [
    "#### <font color='purple'>(f) Are there any misclassified instances? If yes, then please write their coordinates.</font>"
   ]
  },
  {
   "cell_type": "markdown",
   "metadata": {
    "colab_type": "text",
    "id": "Vay2I0Gdr5qG"
   },
   "source": [
    "Yes, $(8, 10)$"
   ]
  },
  {
   "cell_type": "markdown",
   "metadata": {
    "colab_type": "text",
    "id": "IexIzTS6r5qJ"
   },
   "source": [
    "#### <font color='purple'>(g) Are the classes linearly separable in the training data? If yes, then please report one line which separates the classes, by writing down its equation.</font>"
   ]
  },
  {
   "cell_type": "markdown",
   "metadata": {
    "colab_type": "text",
    "id": "vddYTcQRr5qS"
   },
   "source": [
    "Yes, $x_2 = x_1 + 3$\n"
   ]
  },
  {
   "cell_type": "markdown",
   "metadata": {
    "colab_type": "text",
    "id": "knEexeW3r5qY"
   },
   "source": [
    "#### <font color='purple'>(h) Did you get help in this task from public external code (yes/no). If yes, then please provide the link also.</font>"
   ]
  },
  {
   "cell_type": "markdown",
   "metadata": {
    "colab_type": "text",
    "id": "w-uk7zVOr5qh"
   },
   "source": [
    "NO"
   ]
  },
  {
   "cell_type": "markdown",
   "metadata": {
    "colab_type": "text",
    "id": "FoxJzNlJr5qm"
   },
   "source": [
    "## Task 2. Perceptron"
   ]
  },
  {
   "cell_type": "markdown",
   "metadata": {
    "colab_type": "text",
    "id": "4PUrVV4sr5qo"
   },
   "source": [
    "#### <font color='purple'>(a) Implement the perceptron algorithm based on pseudocode from the first lecture: </font>"
   ]
  },
  {
   "cell_type": "markdown",
   "metadata": {
    "colab_type": "text",
    "id": "wEY2K-D8r5qx"
   },
   "source": [
    "<img src=\"perceptron_algorithm.png\" alt=\"perceptron_algorithm\" style=\"width: 400px;\"/>"
   ]
  },
  {
   "cell_type": "markdown",
   "metadata": {
    "colab_type": "text",
    "id": "rRgmwx9sr5q4"
   },
   "source": [
    "<font color='purple'>**Note:** check `pandas` [manual about indexing data](https://pandas.pydata.org/pandas-docs/stable/user_guide/indexing.html) and [iterrows documentation](https://pandas.pydata.org/pandas-docs/stable/reference/api/pandas.DataFrame.iterrows.html), it could be useful, you may want to refresh your memories about the [dot product](https://docs.scipy.org/doc/numpy/reference/generated/numpy.dot.html) as well. Your final plot should be a picture similar to this:\n",
    "<img src=\"perceptron_result.png\" alt=\"perceptron_result\" style=\"width: 300px;\"/></font>"
   ]
  },
  {
   "cell_type": "code",
   "execution_count": 7,
   "metadata": {
    "colab": {},
    "colab_type": "code",
    "id": "UIJ7OPOSr5rB"
   },
   "outputs": [
    {
     "data": {
      "image/png": "[encoded data removed]",
      "text/plain": [
       "<Figure size 640x480 with 1 Axes>"
      ]
     },
     "metadata": {},
     "output_type": "display_data"
    }
   ],
   "source": [
    "def perceptron(data, w=[0,0,0], learning_rate=1):\n",
    "    # Write the code to train the perceptron, putting the final weights in variable `w` \n",
    "    # Optional challenge: Can you do it with less than 10 lines of code? (no extra points for this)\n",
    "    ##### YOUR PERCEPTRON CODE STARTS ##### (please do not delete this line)\n",
    "    # raise NotImplementedError(\"Implement perceptron.\")\n",
    "    converged = False\n",
    "    while not converged:\n",
    "        converged = True\n",
    "        for i in range(len(data)):\n",
    "            x = data.iloc[i, :-1]\n",
    "            y = data.iloc[i, -1]\n",
    "            if y * w @ x <= 0:\n",
    "                w += learning_rate * y * x\n",
    "                converged = False\n",
    "    return w\n",
    "\n",
    "    ##### YOUR PERCEPTRON CODE ENDS ##### (please do not delete this line)\n",
    "\n",
    "try:\n",
    "    if data is ...:\n",
    "        raise NotImplementedError(\"You need to assign a value to variable \\\"data\\\"!\")\n",
    "    data['x0'] = np.ones(len(data)) # Don't forget to create homogeneous coordinates!\n",
    "    data = data[['x0', 'x1', 'x2', 'y']]  # Make column reordering\n",
    "    w = perceptron(data)\n",
    "    plot_data(data)\n",
    "    \n",
    "    # Finally plot the resulting decision boundary line\n",
    "    ##### YOUR PLOTTING CODE STARTS ##### (please do not delete this line)\n",
    "    x = np.linspace(-1, 10, 100)\n",
    "    y = -w[1]/w[2] * x - w[0]/w[2]\n",
    "    \n",
    "    plt.plot(x, y, 'b--', label='perceptron decision boundary')\n",
    "    plt.legend()\n",
    "    # raise NotImplementedError(\"Plot the decision boundary.\")\n",
    "    ##### YOUR PLOTTING CODE ENDS ##### (please do not delete this line)\n",
    "    \n",
    "    plt.show()\n",
    "except NotImplementedError as e:\n",
    "    print(CRED + \"TODO: \" + str(e) + CEND)"
   ]
  },
  {
   "cell_type": "markdown",
   "metadata": {
    "colab_type": "text",
    "id": "AhjaTSABr5rO"
   },
   "source": [
    "#### <font color='purple'>(b) Did you get help from public external code (yes/no). If yes, then please provide the link also.</font>"
   ]
  },
  {
   "cell_type": "markdown",
   "metadata": {
    "colab_type": "text",
    "id": "CDmWLK0Pr5rZ"
   },
   "source": [
    "NO"
   ]
  },
  {
   "cell_type": "markdown",
   "metadata": {},
   "source": [
    "## Task2: Dual perceptron\n",
    "#### <font color='purple'> Implement the dual perceptron algorithm. </font>\n",
    "<img src=\"dual_perceptron.png\" alt=\"Dual perceptron\" style=\"width: 500px;\"/>"
   ]
  },
  {
   "cell_type": "markdown",
   "metadata": {},
   "source": [
    "**Note:** check `pandas` [manual about indexing data](https://pandas.pydata.org/pandas-docs/stable/user_guide/indexing.html) and [iterrows documentation](https://pandas.pydata.org/pandas-docs/stable/reference/api/pandas.DataFrame.iterrows.html), it could be useful"
   ]
  },
  {
   "cell_type": "code",
   "execution_count": 8,
   "metadata": {},
   "outputs": [
    {
     "data": {
      "text/html": [
       "<div>\n",
       "<style scoped>\n",
       "    .dataframe tbody tr th:only-of-type {\n",
       "        vertical-align: middle;\n",
       "    }\n",
       "\n",
       "    .dataframe tbody tr th {\n",
       "        vertical-align: top;\n",
       "    }\n",
       "\n",
       "    .dataframe thead th {\n",
       "        text-align: right;\n",
       "    }\n",
       "</style>\n",
       "<table border=\"1\" class=\"dataframe\">\n",
       "  <thead>\n",
       "    <tr style=\"text-align: right;\">\n",
       "      <th></th>\n",
       "      <th>x0</th>\n",
       "      <th>x1</th>\n",
       "      <th>x2</th>\n",
       "      <th>y</th>\n",
       "    </tr>\n",
       "  </thead>\n",
       "  <tbody>\n",
       "    <tr>\n",
       "      <th>0</th>\n",
       "      <td>1</td>\n",
       "      <td>5</td>\n",
       "      <td>2</td>\n",
       "      <td>1</td>\n",
       "    </tr>\n",
       "    <tr>\n",
       "      <th>1</th>\n",
       "      <td>1</td>\n",
       "      <td>6</td>\n",
       "      <td>1</td>\n",
       "      <td>1</td>\n",
       "    </tr>\n",
       "    <tr>\n",
       "      <th>2</th>\n",
       "      <td>1</td>\n",
       "      <td>7</td>\n",
       "      <td>3</td>\n",
       "      <td>1</td>\n",
       "    </tr>\n",
       "    <tr>\n",
       "      <th>3</th>\n",
       "      <td>1</td>\n",
       "      <td>7</td>\n",
       "      <td>5</td>\n",
       "      <td>1</td>\n",
       "    </tr>\n",
       "    <tr>\n",
       "      <th>4</th>\n",
       "      <td>1</td>\n",
       "      <td>8</td>\n",
       "      <td>10</td>\n",
       "      <td>1</td>\n",
       "    </tr>\n",
       "  </tbody>\n",
       "</table>\n",
       "</div>"
      ],
      "text/plain": [
       "   x0  x1  x2  y\n",
       "0   1   5   2  1\n",
       "1   1   6   1  1\n",
       "2   1   7   3  1\n",
       "3   1   7   5  1\n",
       "4   1   8  10  1"
      ]
     },
     "execution_count": 8,
     "metadata": {},
     "output_type": "execute_result"
    }
   ],
   "source": [
    "x1 = np.array([5, 6, 7, 7, 8, 9, 0, 1, 2, 4, 5, 6])\n",
    "x2 = np.array([2, 1, 3, 5, 10, 3, 4, 8, 6, 10, 9, 11])\n",
    "y = np.array([1, 1, 1, 1, 1, 1, -1, -1, -1, -1, -1, -1])\n",
    "\n",
    "data = pd.DataFrame({'x1': x1, 'x2': x2, 'y':y})\n",
    "data['x0'] = np.ones_like(data['x1']) # Don't forget to create homogeneous coordinates!\n",
    "data = data[['x0', 'x1', 'x2', 'y']]\n",
    "data.head()"
   ]
  },
  {
   "cell_type": "code",
   "execution_count": 9,
   "metadata": {},
   "outputs": [],
   "source": [
    "def dual_perceptron(data):\n",
    "    ##### YOUR CODE STARTS #####(please do not delete this line)\n",
    "    # raise NotImplementedError(\"Compare different methods\")\n",
    "    converged = False\n",
    "    alpha = np.zeros(data.shape[0]) \n",
    "    while not converged:\n",
    "        converged = True\n",
    "        for i in range(data.shape[0]):\n",
    "            x = data.iloc[i, :-1]\n",
    "            y = data.iloc[i, -1]\n",
    "            if y * (alpha * data.iloc[:, -1] @ data.iloc[:, :-1]) @ x  <= 0:\n",
    "                alpha[i] += 1\n",
    "                converged = False\n",
    "                \n",
    "    w = alpha * data.iloc[:, -1] @ data.iloc[:, :-1] \n",
    "    return w\n",
    "    ##### YOUR CODE ENDS #####(please do not delete this line)"
   ]
  },
  {
   "cell_type": "markdown",
   "metadata": {},
   "source": [
    "##### Test your Solution"
   ]
  },
  {
   "cell_type": "code",
   "execution_count": 10,
   "metadata": {},
   "outputs": [
    {
     "data": {
      "image/png": "[encoded data removed]",
      "text/plain": [
       "<Figure size 500x500 with 1 Axes>"
      ]
     },
     "metadata": {},
     "output_type": "display_data"
    }
   ],
   "source": [
    "try:\n",
    "    w = dual_perceptron(data)\n",
    "    xs= np.linspace(0,8,100)\n",
    "    ys = (-1) * (w[1] / w[2]) * xs - w[0] / w[2]\n",
    "\n",
    "    fig = plt.figure(figsize=(5,5))\n",
    "    plt.plot(x1[y<0], x2[y<0], 'bo')\n",
    "    plt.plot(x1[y>0], x2[y>0], 'ro')\n",
    "    plt.yticks(np.arange(13))\n",
    "    plt.xticks(np.arange(13))\n",
    "    plt.plot(xs, ys, color = \"green\")\n",
    "\n",
    "    plt.show()\n",
    "except NotImplementedError as e:\n",
    "    print(CRED, \"TODO:\", e, CEND)"
   ]
  },
  {
   "cell_type": "markdown",
   "metadata": {},
   "source": [
    " ## <font color='red'>This was the last task! Please restart and run all before submission!</font>"
   ]
  }
 ],
 "metadata": {
  "colab": {
   "name": "HW1.ipynb",
   "provenance": [],
   "version": "0.3.2"
  },
  "kernelspec": {
   "display_name": "Python 3 (ipykernel)",
   "language": "python",
   "name": "python3"
  },
  "language_info": {
   "codemirror_mode": {
    "name": "ipython",
    "version": 3
   },
   "file_extension": ".py",
   "mimetype": "text/x-python",
   "name": "python",
   "nbconvert_exporter": "python",
   "pygments_lexer": "ipython3",
   "version": "3.11.4"
  },
  "varInspector": {
   "cols": {
    "lenName": 16,
    "lenType": 16,
    "lenVar": 40
   },
   "kernels_config": {
    "python": {
     "delete_cmd_postfix": "",
     "delete_cmd_prefix": "del ",
     "library": "var_list.py",
     "varRefreshCmd": "print(var_dic_list())"
    },
    "r": {
     "delete_cmd_postfix": ") ",
     "delete_cmd_prefix": "rm(",
     "library": "var_list.r",
     "varRefreshCmd": "cat(var_dic_list()) "
    }
   },
   "types_to_exclude": [
    "module",
    "function",
    "builtin_function_or_method",
    "instance",
    "_Feature"
   ],
   "window_display": false
  }
 },
 "nbformat": 4,
 "nbformat_minor": 1
}
